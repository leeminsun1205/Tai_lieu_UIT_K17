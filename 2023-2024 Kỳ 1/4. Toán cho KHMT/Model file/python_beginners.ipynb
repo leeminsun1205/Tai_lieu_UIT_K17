{
  "nbformat": 4,
  "nbformat_minor": 0,
  "metadata": {
    "colab": {
      "provenance": [],
      "gpuType": "T4"
    },
    "kernelspec": {
      "name": "python3",
      "display_name": "Python 3"
    },
    "language_info": {
      "name": "python"
    },
    "accelerator": "GPU"
  },
  "cells": [
    {
      "cell_type": "markdown",
      "source": [
        "**KHAI BÁO BIẾN VÀ KIỂU DỮ LIỆU**"
      ],
      "metadata": {
        "id": "2sVUMGYsd19e"
      }
    },
    {
      "cell_type": "code",
      "execution_count": null,
      "metadata": {
        "id": "j1_oxQmGvveW"
      },
      "outputs": [],
      "source": [
        "a=10\n",
        "b=10.0\n",
        "full_name='Vo Dai Luong'\n",
        "name=\"Luong\"\n",
        "arr1=[1,2,3,4,5]\n",
        "arr2=[1,\"one\",2,'two']\n",
        "is_number=True\n",
        "is_text=False\n"
      ]
    },
    {
      "cell_type": "code",
      "source": [
        "type(arr1)\n"
      ],
      "metadata": {
        "id": "4mqbgBeDIr1p",
        "colab": {
          "base_uri": "https://localhost:8080/"
        },
        "outputId": "515143af-9c7e-41ec-c21e-83b225888f18"
      },
      "execution_count": null,
      "outputs": [
        {
          "output_type": "execute_result",
          "data": {
            "text/plain": [
              "list"
            ]
          },
          "metadata": {},
          "execution_count": 19
        }
      ]
    },
    {
      "cell_type": "code",
      "source": [
        "type(b)"
      ],
      "metadata": {
        "id": "aIE0R_szJGnS",
        "colab": {
          "base_uri": "https://localhost:8080/"
        },
        "outputId": "193e1b89-963e-4d77-fec7-de81e202f741"
      },
      "execution_count": null,
      "outputs": [
        {
          "output_type": "execute_result",
          "data": {
            "text/plain": [
              "float"
            ]
          },
          "metadata": {},
          "execution_count": 18
        }
      ]
    },
    {
      "cell_type": "code",
      "source": [
        "type(full_name)\n"
      ],
      "metadata": {
        "id": "RCl17IS1IuJO"
      },
      "execution_count": null,
      "outputs": []
    },
    {
      "cell_type": "code",
      "source": [
        "type(name)"
      ],
      "metadata": {
        "id": "qQ1RNTf9JIVf"
      },
      "execution_count": null,
      "outputs": []
    },
    {
      "cell_type": "code",
      "source": [
        "type(arr1)\n"
      ],
      "metadata": {
        "id": "uY8TfzjEIx5O"
      },
      "execution_count": null,
      "outputs": []
    },
    {
      "cell_type": "code",
      "source": [
        "type(arr2)"
      ],
      "metadata": {
        "id": "TYQTYQStJKj8"
      },
      "execution_count": null,
      "outputs": []
    },
    {
      "cell_type": "code",
      "source": [
        "type(is_number)\n"
      ],
      "metadata": {
        "id": "givcgTOWI1DM"
      },
      "execution_count": null,
      "outputs": []
    },
    {
      "cell_type": "code",
      "source": [
        "type(is_text)"
      ],
      "metadata": {
        "id": "QCZsJ9DNJNUW"
      },
      "execution_count": null,
      "outputs": []
    },
    {
      "cell_type": "code",
      "source": [
        "print(a,b)"
      ],
      "metadata": {
        "id": "rS75lKrhJmNx",
        "colab": {
          "base_uri": "https://localhost:8080/"
        },
        "outputId": "add4c99f-57a0-48b1-fc20-0b0eedf786e4"
      },
      "execution_count": null,
      "outputs": [
        {
          "output_type": "stream",
          "name": "stdout",
          "text": [
            "10 10.0\n"
          ]
        }
      ]
    },
    {
      "cell_type": "code",
      "source": [
        "print(full_name)"
      ],
      "metadata": {
        "id": "G1wz_a2lJ1xf",
        "colab": {
          "base_uri": "https://localhost:8080/"
        },
        "outputId": "ad5c6109-0324-4c9c-ef18-6849bf229a67"
      },
      "execution_count": null,
      "outputs": [
        {
          "output_type": "stream",
          "name": "stdout",
          "text": [
            "Vo Dai Luong\n"
          ]
        }
      ]
    },
    {
      "cell_type": "code",
      "source": [
        "print(name+full_name)"
      ],
      "metadata": {
        "id": "1KjMn-khJ605",
        "colab": {
          "base_uri": "https://localhost:8080/"
        },
        "outputId": "6315234c-eac0-46c8-aa4b-8231dec65350"
      },
      "execution_count": null,
      "outputs": [
        {
          "output_type": "stream",
          "name": "stdout",
          "text": [
            "LuongVo Dai Luong\n"
          ]
        }
      ]
    },
    {
      "cell_type": "code",
      "source": [
        "print(name+\" \"+full_name)"
      ],
      "metadata": {
        "id": "m5yusygnJ_IJ",
        "colab": {
          "base_uri": "https://localhost:8080/"
        },
        "outputId": "837f245d-6a6e-4327-86fb-0dbd4df01c83"
      },
      "execution_count": null,
      "outputs": [
        {
          "output_type": "stream",
          "name": "stdout",
          "text": [
            "Luong Vo Dai Luong\n"
          ]
        }
      ]
    },
    {
      "cell_type": "code",
      "source": [
        "print(is_number)"
      ],
      "metadata": {
        "id": "Qjqymv-GKFn9"
      },
      "execution_count": null,
      "outputs": []
    },
    {
      "cell_type": "code",
      "source": [
        "print(arr1)\n",
        "print(arr2)"
      ],
      "metadata": {
        "id": "O6re2im1KNAb"
      },
      "execution_count": null,
      "outputs": []
    },
    {
      "cell_type": "code",
      "source": [
        "print(name+a) #báo lỗi"
      ],
      "metadata": {
        "id": "ExCbCL94LXUl"
      },
      "execution_count": null,
      "outputs": []
    },
    {
      "cell_type": "code",
      "source": [
        "print(name,a)\n",
        "print(full_name, arr1)\n",
        "print(full_name,is_number)\n",
        "print(full_name, a, name)"
      ],
      "metadata": {
        "id": "5BDrOCGsLeJ-"
      },
      "execution_count": null,
      "outputs": []
    },
    {
      "cell_type": "markdown",
      "source": [
        "**Một số cách truy xuất với chuỗi (string)**\n",
        "\n",
        "**Dùng được cho cả các loại dữ liệu khác như list, tuple, set, dictionary,...**"
      ],
      "metadata": {
        "id": "9JaCu4T9d8NE"
      }
    },
    {
      "cell_type": "code",
      "source": [
        "full_name=\"Vo Dai Luong\"\n",
        "print(len(full_name))\n",
        "\n"
      ],
      "metadata": {
        "id": "NW9sb9PHBzhx",
        "colab": {
          "base_uri": "https://localhost:8080/"
        },
        "outputId": "1fab61b8-7c85-48db-9d9b-bac887dca293"
      },
      "execution_count": null,
      "outputs": [
        {
          "output_type": "stream",
          "name": "stdout",
          "text": [
            "12\n"
          ]
        }
      ]
    },
    {
      "cell_type": "code",
      "source": [
        "print(full_name[1:3])"
      ],
      "metadata": {
        "id": "YCWrbM2gInFj",
        "colab": {
          "base_uri": "https://localhost:8080/"
        },
        "outputId": "02046687-d6e5-4fc0-ad97-276cba5d17b6"
      },
      "execution_count": null,
      "outputs": [
        {
          "output_type": "stream",
          "name": "stdout",
          "text": [
            "o \n"
          ]
        }
      ]
    },
    {
      "cell_type": "code",
      "source": [
        "print(full_name[1:])"
      ],
      "metadata": {
        "id": "MKd1x_8UIneo",
        "colab": {
          "base_uri": "https://localhost:8080/"
        },
        "outputId": "6f74ce3c-46a5-483b-dcb5-7814bef9ca20"
      },
      "execution_count": null,
      "outputs": [
        {
          "output_type": "stream",
          "name": "stdout",
          "text": [
            "o Dai Luong\n"
          ]
        }
      ]
    },
    {
      "cell_type": "code",
      "source": [
        "print(full_name[:3])"
      ],
      "metadata": {
        "id": "w8SuXGIDInrC"
      },
      "execution_count": null,
      "outputs": []
    },
    {
      "cell_type": "code",
      "source": [
        "print(full_name[0])"
      ],
      "metadata": {
        "id": "-ARDLt5wIpws"
      },
      "execution_count": null,
      "outputs": []
    },
    {
      "cell_type": "code",
      "source": [
        "print(full_name[-1])"
      ],
      "metadata": {
        "id": "251KV0MBJVq2",
        "colab": {
          "base_uri": "https://localhost:8080/"
        },
        "outputId": "fa82ebcc-22fe-4ce3-9223-383254607a21"
      },
      "execution_count": null,
      "outputs": [
        {
          "output_type": "stream",
          "name": "stdout",
          "text": [
            "g\n"
          ]
        }
      ]
    },
    {
      "cell_type": "code",
      "source": [
        "print(full_name[::-1])"
      ],
      "metadata": {
        "id": "ESnvG5qwJY1h"
      },
      "execution_count": null,
      "outputs": []
    },
    {
      "cell_type": "code",
      "source": [
        "print(full_name[::2])"
      ],
      "metadata": {
        "id": "vLi4RBZmJzKy",
        "colab": {
          "base_uri": "https://localhost:8080/"
        },
        "outputId": "4034803e-4b1c-4c62-9d34-d89203de28aa"
      },
      "execution_count": null,
      "outputs": [
        {
          "output_type": "stream",
          "name": "stdout",
          "text": [
            "V a un\n"
          ]
        }
      ]
    },
    {
      "cell_type": "markdown",
      "source": [
        "**MỘT SỐ HÀM XỬ LÝ VỚI STRING**"
      ],
      "metadata": {
        "id": "BxF9Ev6DePr4"
      }
    },
    {
      "cell_type": "code",
      "source": [
        "full_name=full_name.lower()\n",
        "print(full_name)"
      ],
      "metadata": {
        "id": "DgfLC8vRLKHw",
        "colab": {
          "base_uri": "https://localhost:8080/"
        },
        "outputId": "8dcdf570-98b9-433c-8fdf-4414becca9a6"
      },
      "execution_count": null,
      "outputs": [
        {
          "output_type": "stream",
          "name": "stdout",
          "text": [
            "vo dai luong\n"
          ]
        }
      ]
    },
    {
      "cell_type": "code",
      "source": [
        "full_name=full_name.upper()\n",
        "print(full_name)"
      ],
      "metadata": {
        "id": "EtOh9hZULVdc",
        "colab": {
          "base_uri": "https://localhost:8080/"
        },
        "outputId": "13893b2f-7a21-47bb-dd37-37acbb229e1e"
      },
      "execution_count": null,
      "outputs": [
        {
          "output_type": "stream",
          "name": "stdout",
          "text": [
            "VO DAI LUONG\n"
          ]
        }
      ]
    },
    {
      "cell_type": "code",
      "source": [
        "full_name=full_name.swapcase()\n",
        "print(full_name)"
      ],
      "metadata": {
        "colab": {
          "base_uri": "https://localhost:8080/"
        },
        "id": "hFswdhmDLnWH",
        "outputId": "5a807328-4bee-41f5-b489-bbef470f8cd4"
      },
      "execution_count": null,
      "outputs": [
        {
          "output_type": "stream",
          "name": "stdout",
          "text": [
            "vo dai luong\n"
          ]
        }
      ]
    },
    {
      "cell_type": "code",
      "source": [
        "print(full_name.find(\"vo\"))"
      ],
      "metadata": {
        "id": "Z2FlecZrLyO-"
      },
      "execution_count": null,
      "outputs": []
    },
    {
      "cell_type": "code",
      "source": [
        "print(full_name.find(\"vo\",3,5))"
      ],
      "metadata": {
        "id": "ZPJG5c-RL-Ze"
      },
      "execution_count": null,
      "outputs": []
    },
    {
      "cell_type": "code",
      "source": [
        "full_name.index(\"vo\")"
      ],
      "metadata": {
        "id": "RyjDmIZAMD1K"
      },
      "execution_count": null,
      "outputs": []
    },
    {
      "cell_type": "code",
      "source": [
        "full_name=full_name.replace('Vo', 'Tran')\n",
        "print(full_name)"
      ],
      "metadata": {
        "id": "cgclLiuQMTYn",
        "colab": {
          "base_uri": "https://localhost:8080/"
        },
        "outputId": "dda009e6-f5f2-4798-9124-da6932566cf6"
      },
      "execution_count": null,
      "outputs": [
        {
          "output_type": "stream",
          "name": "stdout",
          "text": [
            "Tran Dai Luong\n"
          ]
        }
      ]
    },
    {
      "cell_type": "markdown",
      "source": [
        "**KIỂU DỮ LIỆU LIST VÀ MỘT SỐ HÀM**"
      ],
      "metadata": {
        "id": "yK1vCSSEeXD-"
      }
    },
    {
      "cell_type": "code",
      "source": [
        "arr=[]\n",
        "arr.append(1)\n",
        "arr.append(3)\n",
        "print(arr)\n",
        "type(arr)"
      ],
      "metadata": {
        "id": "mWH15bjHCeoK",
        "colab": {
          "base_uri": "https://localhost:8080/"
        },
        "outputId": "dc94d96e-7c3f-47c4-f656-718022620f51"
      },
      "execution_count": null,
      "outputs": [
        {
          "output_type": "stream",
          "name": "stdout",
          "text": [
            "[1, 3]\n"
          ]
        },
        {
          "output_type": "execute_result",
          "data": {
            "text/plain": [
              "list"
            ]
          },
          "metadata": {},
          "execution_count": 37
        }
      ]
    },
    {
      "cell_type": "code",
      "source": [
        "numbers=\"1 2 3 4 5 6 7 8 9\"\n",
        "numbers=numbers.split()\n",
        "print(numbers)"
      ],
      "metadata": {
        "id": "PU2TnjFtI5VK"
      },
      "execution_count": null,
      "outputs": []
    },
    {
      "cell_type": "code",
      "source": [
        "full_name=['Vo', 'Dai', 'Luong']\n",
        "full_name=\" \".join(full_name)\n",
        "print(full_name)"
      ],
      "metadata": {
        "id": "6JOMDD5lJXo2"
      },
      "execution_count": null,
      "outputs": []
    },
    {
      "cell_type": "code",
      "source": [
        "arr.insert(1,2)\n",
        "print(arr)"
      ],
      "metadata": {
        "id": "hMRjQ-eDNc8V"
      },
      "execution_count": null,
      "outputs": []
    },
    {
      "cell_type": "code",
      "source": [
        "arr.pop()\n",
        "print(arr)"
      ],
      "metadata": {
        "id": "SOetWbTjPMLf"
      },
      "execution_count": null,
      "outputs": []
    },
    {
      "cell_type": "code",
      "source": [
        "arr.sort(reverse=True)\n",
        "print(arr)"
      ],
      "metadata": {
        "id": "xTPzid7sPUmP"
      },
      "execution_count": null,
      "outputs": []
    },
    {
      "cell_type": "code",
      "source": [
        "arr.reverse()\n",
        "print(arr)"
      ],
      "metadata": {
        "id": "HhlOrf33PkGg"
      },
      "execution_count": null,
      "outputs": []
    },
    {
      "cell_type": "markdown",
      "source": [
        "**KIỂU DỮ LIỆU TUPLE**"
      ],
      "metadata": {
        "id": "Wbpdyl-wegUo"
      }
    },
    {
      "cell_type": "code",
      "source": [
        "arr=(1,2,3,4,5)\n",
        "print(arr)\n",
        "type(arr)"
      ],
      "metadata": {
        "id": "geqQkYxxKBIX"
      },
      "execution_count": null,
      "outputs": []
    },
    {
      "cell_type": "code",
      "source": [
        "arr[0]=0 #báo lỗi"
      ],
      "metadata": {
        "id": "nAW4rwWCekCX"
      },
      "execution_count": null,
      "outputs": []
    },
    {
      "cell_type": "code",
      "source": [
        "arr=(1,2,3,4,[1,2,3,4])\n"
      ],
      "metadata": {
        "id": "04ClBZMSetP8"
      },
      "execution_count": null,
      "outputs": []
    },
    {
      "cell_type": "code",
      "source": [
        "arr[4][0]=5\n",
        "print(arr)"
      ],
      "metadata": {
        "id": "4L-AWOyTey__",
        "colab": {
          "base_uri": "https://localhost:8080/"
        },
        "outputId": "1ae7e8cf-425f-4663-9fee-6712c66fd8ed"
      },
      "execution_count": null,
      "outputs": [
        {
          "output_type": "stream",
          "name": "stdout",
          "text": [
            "(1, 2, 3, 4, [5, 2, 3, 4])\n"
          ]
        }
      ]
    },
    {
      "cell_type": "markdown",
      "source": [
        "**KIỂU DỮ LIỆU SET VÀ MỘT SỐ HÀM LIÊN QUAN**"
      ],
      "metadata": {
        "id": "0f3P4U0WfLxz"
      }
    },
    {
      "cell_type": "code",
      "source": [
        "arr={1,2,3,3,3,4,4,5,5,6}\n",
        "print(arr)\n",
        "type(arr)"
      ],
      "metadata": {
        "id": "t6jxeNLvQmee",
        "colab": {
          "base_uri": "https://localhost:8080/"
        },
        "outputId": "15501290-7e44-4f3b-96f9-025878a1fe9d"
      },
      "execution_count": null,
      "outputs": [
        {
          "output_type": "stream",
          "name": "stdout",
          "text": [
            "{1, 2, 3, 4, 5, 6}\n"
          ]
        },
        {
          "output_type": "execute_result",
          "data": {
            "text/plain": [
              "set"
            ]
          },
          "metadata": {},
          "execution_count": 48
        }
      ]
    },
    {
      "cell_type": "code",
      "source": [
        "arr.add(7)\n",
        "print(arr)"
      ],
      "metadata": {
        "id": "zUWR8GR1RCky",
        "colab": {
          "base_uri": "https://localhost:8080/"
        },
        "outputId": "495f6854-ed3e-4c35-9e6c-e63f155d15bb"
      },
      "execution_count": null,
      "outputs": [
        {
          "output_type": "stream",
          "name": "stdout",
          "text": [
            "{1, 2, 3, 4, 5, 6, 7}\n"
          ]
        }
      ]
    },
    {
      "cell_type": "code",
      "source": [
        "arr.remove(3)\n",
        "print(arr)"
      ],
      "metadata": {
        "id": "yKHcLGpBROov"
      },
      "execution_count": null,
      "outputs": []
    },
    {
      "cell_type": "code",
      "source": [
        "arr.discard(3)\n",
        "print(arr)"
      ],
      "metadata": {
        "id": "F6GtFwv9NHRG"
      },
      "execution_count": null,
      "outputs": []
    },
    {
      "cell_type": "code",
      "source": [
        "arr.pop()\n",
        "print(arr)"
      ],
      "metadata": {
        "id": "WsEJZpHdNU03"
      },
      "execution_count": null,
      "outputs": []
    },
    {
      "cell_type": "code",
      "source": [
        "arr.update([7,8,9])\n",
        "print(arr)"
      ],
      "metadata": {
        "colab": {
          "base_uri": "https://localhost:8080/"
        },
        "id": "asYCf6xvNiTn",
        "outputId": "0f3491aa-7431-498c-f462-5210d4a66835"
      },
      "execution_count": null,
      "outputs": [
        {
          "output_type": "stream",
          "name": "stdout",
          "text": [
            "{1, 2, 4, 5, 6, 7, 8, 9}\n"
          ]
        }
      ]
    },
    {
      "cell_type": "markdown",
      "source": [
        "**KIỂU DỮ LIỆU DICTIONARY**"
      ],
      "metadata": {
        "id": "Jz-m_oGhMvUx"
      }
    },
    {
      "cell_type": "code",
      "source": [
        "arr={\"Luong\": \"SVG\", \"Long\":\"SVK\", \"TM\":\"SVXS\"}\n",
        "print(arr)\n",
        "type(arr)"
      ],
      "metadata": {
        "id": "s2_Br__LRVCf"
      },
      "execution_count": null,
      "outputs": []
    },
    {
      "cell_type": "code",
      "source": [
        "print(arr[\"Luong\"])"
      ],
      "metadata": {
        "id": "cUdE9iXsOHRo"
      },
      "execution_count": null,
      "outputs": []
    },
    {
      "cell_type": "code",
      "source": [
        "arr[\"Luong\"]=\"SVTB\"\n",
        "print(arr)"
      ],
      "metadata": {
        "id": "Nq_KfFUJOoed",
        "colab": {
          "base_uri": "https://localhost:8080/"
        },
        "outputId": "d300d432-16e7-467c-92a7-f37f848af8b3"
      },
      "execution_count": null,
      "outputs": [
        {
          "output_type": "stream",
          "name": "stdout",
          "text": [
            "{'Luong': 'SVTB', 'Long': 'SVK', 'TM': 'SVXS'}\n"
          ]
        }
      ]
    },
    {
      "cell_type": "code",
      "source": [
        "arr.pop(\"Luong\")\n",
        "print(arr)"
      ],
      "metadata": {
        "id": "6QWNLtThOj5S",
        "colab": {
          "base_uri": "https://localhost:8080/"
        },
        "outputId": "0eb321f9-da44-4660-9922-10aa0a813b5a"
      },
      "execution_count": null,
      "outputs": [
        {
          "output_type": "stream",
          "name": "stdout",
          "text": [
            "{'Long': 'SVK', 'TM': 'SVXS'}\n"
          ]
        }
      ]
    },
    {
      "cell_type": "code",
      "source": [
        "arr[\"Luon\"]=\"HSXS\"\n",
        "print(arr)"
      ],
      "metadata": {
        "id": "i4yiYgSwOLOd",
        "colab": {
          "base_uri": "https://localhost:8080/"
        },
        "outputId": "9eec7bc5-58c6-4911-e33f-88e07415da84"
      },
      "execution_count": null,
      "outputs": [
        {
          "output_type": "stream",
          "name": "stdout",
          "text": [
            "{'Long': 'SVK', 'TM': 'SVXS', 'Luon': 'HSXS'}\n"
          ]
        }
      ]
    },
    {
      "cell_type": "code",
      "source": [
        "print(arr.[\"Luong\"])"
      ],
      "metadata": {
        "id": "j0fH4cr6Peek"
      },
      "execution_count": null,
      "outputs": []
    },
    {
      "cell_type": "code",
      "source": [
        "print(arr.get(\"Luong\"))"
      ],
      "metadata": {
        "id": "MATeQxtHPlt4"
      },
      "execution_count": null,
      "outputs": []
    },
    {
      "cell_type": "code",
      "source": [
        "print(\"Keys: \", end=\" \")\n",
        "for key in arr.keys():\n",
        "  print(key, end=\" \")\n",
        "print(\"\\nValues: \", end=\" \")\n",
        "for value in arr.values():\n",
        "  print(value, end=\" \")\n"
      ],
      "metadata": {
        "id": "IAXliij1Ryy9"
      },
      "execution_count": null,
      "outputs": []
    },
    {
      "cell_type": "code",
      "source": [
        "for key, value in arr.items():\n",
        "  print(key+\": \"+ value)"
      ],
      "metadata": {
        "id": "-b2EIaVqSmAR"
      },
      "execution_count": null,
      "outputs": []
    },
    {
      "cell_type": "markdown",
      "source": [
        "**NHẬP DỮ LIỆU VÀ MỘT SỐ LƯU Ý**"
      ],
      "metadata": {
        "id": "yUTLQpysjpYj"
      }
    },
    {
      "cell_type": "code",
      "source": [
        "a=input()\n",
        "b=input()\n",
        "\n"
      ],
      "metadata": {
        "id": "vsvq8Vf0wuSj"
      },
      "execution_count": null,
      "outputs": []
    },
    {
      "cell_type": "code",
      "source": [
        "c=a+b\n",
        "print(a+b)"
      ],
      "metadata": {
        "id": "zASSEuxGTYFN",
        "colab": {
          "base_uri": "https://localhost:8080/"
        },
        "outputId": "b5f6afc5-7b6e-4942-a2fb-254f4ceb2407"
      },
      "execution_count": null,
      "outputs": [
        {
          "output_type": "stream",
          "name": "stdout",
          "text": [
            "\n"
          ]
        }
      ]
    },
    {
      "cell_type": "code",
      "source": [
        "a=int(input())\n",
        "b=float(input())\n",
        "c=a+b\n"
      ],
      "metadata": {
        "id": "17J_1ELNxBY_"
      },
      "execution_count": null,
      "outputs": []
    },
    {
      "cell_type": "markdown",
      "source": [
        "**CÁC PHÉP TOÁN TRONG PYTHON**"
      ],
      "metadata": {
        "id": "LBJSdbFyjzYP"
      }
    },
    {
      "cell_type": "code",
      "source": [
        "a=12\n",
        "b=5\n",
        "c=a+b\n",
        "d=a-b\n",
        "e=a*b\n",
        "f=a**b\n",
        "g=a/b\n",
        "h=a//b\n",
        "j=a%b\n",
        "min_=min(a,b)\n",
        "max_=max(a,b)\n",
        "a=abs(a)"
      ],
      "metadata": {
        "id": "i9mhQK4axNc0"
      },
      "execution_count": null,
      "outputs": []
    },
    {
      "cell_type": "code",
      "source": [
        "print(h)"
      ],
      "metadata": {
        "id": "12WlIiyOVAwr"
      },
      "execution_count": null,
      "outputs": []
    },
    {
      "cell_type": "code",
      "source": [
        "import math\n",
        "a=math.sqrt(4)\n",
        "b=math.factorial(3)\n",
        "c=math.ceil(4.1)\n",
        "d=math.floor(4.9)"
      ],
      "metadata": {
        "id": "_TZpKBLYKUC3"
      },
      "execution_count": null,
      "outputs": []
    },
    {
      "cell_type": "code",
      "source": [
        "print(a)"
      ],
      "metadata": {
        "id": "Y_vqIBhQkOD4"
      },
      "execution_count": null,
      "outputs": []
    },
    {
      "cell_type": "markdown",
      "source": [
        "**CẤU TRÚC RẼ NHÁNH TRONG PYTHON VÀ CÁC PHÉP TOÁN SO SÁNH**"
      ],
      "metadata": {
        "id": "HuPzo7CLkAzc"
      }
    },
    {
      "cell_type": "code",
      "source": [
        "a=int(input())\n",
        "b=int(input())\n",
        "if a>b:\n",
        "  print(\"max=\",a)\n",
        "elif a==b:\n",
        "  print(\"a=b\")\n",
        "else:\n",
        "  print(\"max=\",b)\n"
      ],
      "metadata": {
        "id": "FcGTsKNA6C1Y"
      },
      "execution_count": null,
      "outputs": []
    },
    {
      "cell_type": "code",
      "source": [
        "absense=['Luong', 'Long', 'Luon']\n",
        "Luong_GPA=10\n",
        "if \"Luong\" in absense:\n",
        "  Luong_GPA-=1\n"
      ],
      "metadata": {
        "id": "GXKqGoku6aoL"
      },
      "execution_count": null,
      "outputs": []
    },
    {
      "cell_type": "code",
      "source": [
        "Luong_emotion=\"I'm happy\"\n",
        "if \"happy\" in Luong_emotion:\n",
        "  print(\"Luong is happy today\")\n",
        "else:\n",
        "  print(\"Luong isn't happy today\")"
      ],
      "metadata": {
        "id": "f-YFOnyn654V"
      },
      "execution_count": null,
      "outputs": []
    },
    {
      "cell_type": "code",
      "source": [
        "gender=input()\n",
        "age=int(input())\n",
        "if gender=='Male' and age>=18:\n",
        "  print(\"You're a man\")\n",
        "elif gender!=\"Male\" or age<18:\n",
        "  print(\"You're not a man\")"
      ],
      "metadata": {
        "id": "NgwTNSj98DmB"
      },
      "execution_count": null,
      "outputs": []
    },
    {
      "cell_type": "markdown",
      "source": [
        "**CẤU TRÚC LẶP: for và while**"
      ],
      "metadata": {
        "id": "tLxUNauSkxOo"
      }
    },
    {
      "cell_type": "code",
      "source": [
        "for i in range(0,10):\n",
        "  print(i, end=\" \")"
      ],
      "metadata": {
        "id": "C4ecPGHP9LM4"
      },
      "execution_count": null,
      "outputs": []
    },
    {
      "cell_type": "code",
      "source": [
        "arr=[1,2,3,4,5,6,7,8,9]\n",
        "for i in arr:\n",
        "  if i%2==0:\n",
        "    continue\n",
        "  if i>=5:\n",
        "    break\n",
        "  print(i)\n"
      ],
      "metadata": {
        "id": "YyiYJCsL9VyD"
      },
      "execution_count": null,
      "outputs": []
    },
    {
      "cell_type": "code",
      "source": [
        "a=10\n",
        "while a>0:\n",
        "  print(a, end=\" \")\n",
        "  a-=1"
      ],
      "metadata": {
        "id": "2Dww46SC9hux"
      },
      "execution_count": null,
      "outputs": []
    },
    {
      "cell_type": "markdown",
      "source": [
        "**TỰ XÂY DỰNG HÀM**"
      ],
      "metadata": {
        "id": "OnWTazO6lB8m"
      }
    },
    {
      "cell_type": "code",
      "source": [
        "a=10\n",
        "b=5\n",
        "def greater(a,b):\n",
        "  return a if a>b else b\n",
        "print(\"Max:\", greater(a,b))\n"
      ],
      "metadata": {
        "id": "lLw5qPmX9vrc"
      },
      "execution_count": null,
      "outputs": []
    },
    {
      "cell_type": "code",
      "source": [
        "name ='Luong'\n",
        "def hello(name):\n",
        "  print(\"hello\" +\" \"+ name)\n",
        "hello(name)"
      ],
      "metadata": {
        "colab": {
          "base_uri": "https://localhost:8080/"
        },
        "id": "V_adpP04aLCS",
        "outputId": "efaeb13b-f06b-4871-a857-4ad64528fc49"
      },
      "execution_count": null,
      "outputs": [
        {
          "output_type": "stream",
          "name": "stdout",
          "text": [
            "hello Luong\n"
          ]
        }
      ]
    },
    {
      "cell_type": "code",
      "source": [
        "def Myrange(start, end, step=1):\n",
        "  while start<end:\n",
        "    yield start\n",
        "    start+=step\n",
        "myrange=list(Myrange(0,5))\n",
        "print(myrange)"
      ],
      "metadata": {
        "id": "hPINoRaSaLNp"
      },
      "execution_count": null,
      "outputs": []
    },
    {
      "cell_type": "markdown",
      "source": [
        "**HƯỚNG ĐỐI TƯỢNG TRONG PYTHON**"
      ],
      "metadata": {
        "id": "p3nYhSt_lHpX"
      }
    },
    {
      "cell_type": "code",
      "source": [
        "class human:\n",
        "  def __init__(self, name=\"\", age=0): #constructor\n",
        "    self.name= name\n",
        "    self.age= age\n",
        "  def __del__(self): #destructor\n",
        "    print(\"Bye Bye\")\n",
        "  def eat(self,food):\n",
        "    print(self.name+\" is eating \"+food)\n",
        "Luong=human(\"Luong\", 19)\n",
        "print(\"Hello, my name's \"+ Luong.name + \" and my age is\", Luong.age )\n",
        "Luong.eat(\"an apple\")\n"
      ],
      "metadata": {
        "id": "XyXYOkTsZfUY"
      },
      "execution_count": null,
      "outputs": []
    },
    {
      "cell_type": "code",
      "source": [
        "class student (human):\n",
        "  def __init__ (self, name=\"\", age=0, id=\"\"):\n",
        "    human.__init__(self, name, age)\n",
        "    self.id=id\n",
        "  def __del__(self):\n",
        "    print(\"bye bye\")\n",
        "  def learn(self):\n",
        "    print(self.name + \" is learning\")\n",
        "Luong=student(\"Luong\", 19, \"22520834\")\n",
        "print(\"Hello, my name's \"+ Luong.name + \" and my age is\", Luong.age )\n",
        "print(\"Luong's id is: \"+ Luong.id)\n",
        "Luong.eat(\"a banana\")\n",
        "Luong.learn()"
      ],
      "metadata": {
        "id": "fFcXJ288nYBp"
      },
      "execution_count": null,
      "outputs": []
    },
    {
      "cell_type": "code",
      "source": [
        "class student (human):\n",
        "  def __init__ (self, name=\"\", age=0, id=\"\"):\n",
        "    human.__init__(self, name, age)\n",
        "    self._id=id\n",
        "  def __del__(self):\n",
        "    print(\"bye bye\")\n",
        "  def learn(self):\n",
        "    print(self.name + \" is learning\")\n",
        "  def id(self):\n",
        "    return self._id\n",
        "Luong=student(\"Luong\", 19, \"22520834\")\n",
        "print(\"Hello, my name's \"+ Luong.name + \" and my age is\", Luong.age )\n",
        "#print(\"Luong's id is: \"+ Luong.id) #báo lỗi\n",
        "print(\"Luong's id is: \"+ Luong.id())\n",
        "Luong.eat(\"a banana\")\n",
        "Luong.learn()"
      ],
      "metadata": {
        "id": "9fVeLzExoxXN"
      },
      "execution_count": null,
      "outputs": []
    },
    {
      "cell_type": "markdown",
      "source": [
        "**XỬ LÝ MA TRẬN VÀ VECTOR TRONG PYTHON**"
      ],
      "metadata": {
        "id": "d8O3VDsAqW5a"
      }
    },
    {
      "cell_type": "code",
      "source": [
        "import numpy as np"
      ],
      "metadata": {
        "id": "liD-neSRC7oI"
      },
      "execution_count": null,
      "outputs": []
    },
    {
      "cell_type": "code",
      "source": [
        "list_=[[1,2,3,4,5],\n",
        "      [6,7,8,8,10]]\n",
        "a=np.array([[1,2,3,4,5],[6,7,8,9,10],[11,12,13,14,15]])\n",
        "b=np.array(list)\n",
        "c=np.arange(1,9,2)\n",
        "d=np.ones((5,5))\n",
        "e=np.zeros((5,5))\n",
        "f=np.random.rand(5,5)\n",
        "h=np.eye(5)"
      ],
      "metadata": {
        "id": "jIh8atteKc-5"
      },
      "execution_count": null,
      "outputs": []
    },
    {
      "cell_type": "code",
      "source": [
        "print(f)"
      ],
      "metadata": {
        "id": "jeC-O63UxOw-"
      },
      "execution_count": null,
      "outputs": []
    },
    {
      "cell_type": "code",
      "source": [
        "type(a)"
      ],
      "metadata": {
        "id": "tnZ7SKFJwS3I"
      },
      "execution_count": null,
      "outputs": []
    },
    {
      "cell_type": "code",
      "source": [
        "print(list.shape) #báo lỗi"
      ],
      "metadata": {
        "id": "jpRVk_1iwX1w"
      },
      "execution_count": null,
      "outputs": []
    },
    {
      "cell_type": "code",
      "source": [
        "print(a.shape)"
      ],
      "metadata": {
        "id": "ZH0NtkjFwdPq"
      },
      "execution_count": null,
      "outputs": []
    },
    {
      "cell_type": "code",
      "source": [
        "print(a[0][0])"
      ],
      "metadata": {
        "id": "J0_IFEKowJ4N"
      },
      "execution_count": null,
      "outputs": []
    },
    {
      "cell_type": "code",
      "source": [
        "print(a.ndim)"
      ],
      "metadata": {
        "id": "UtV5G3cPv9sw"
      },
      "execution_count": null,
      "outputs": []
    },
    {
      "cell_type": "code",
      "source": [
        "A=np.random.rand(5,4)\n",
        "result=a@(A)\n",
        "#result=a.dot(A)\n",
        "print(result)\n"
      ],
      "metadata": {
        "id": "aD9-LZalyMqp"
      },
      "execution_count": null,
      "outputs": []
    },
    {
      "cell_type": "code",
      "source": [
        "A=np.random.rand(3,5)\n",
        "result=a+A\n",
        "print(result)"
      ],
      "metadata": {
        "id": "KPTi95paylts"
      },
      "execution_count": null,
      "outputs": []
    },
    {
      "cell_type": "code",
      "source": [
        "A=np.random.rand(3,5)\n",
        "result=a-A\n",
        "print(result)"
      ],
      "metadata": {
        "id": "GLdQjiJXysvo"
      },
      "execution_count": null,
      "outputs": []
    },
    {
      "cell_type": "code",
      "source": [
        "print(a.T)"
      ],
      "metadata": {
        "id": "ju40HJivy2LW"
      },
      "execution_count": null,
      "outputs": []
    },
    {
      "cell_type": "code",
      "source": [
        "a=np.random.rand(3,3)\n",
        "print(np.linalg.inv(a))"
      ],
      "metadata": {
        "id": "ja5obN_-zDrf"
      },
      "execution_count": null,
      "outputs": []
    },
    {
      "cell_type": "code",
      "source": [
        "print(np.linalg.det(a))"
      ],
      "metadata": {
        "id": "paFL21eTzIz9"
      },
      "execution_count": null,
      "outputs": []
    },
    {
      "cell_type": "markdown",
      "source": [
        "**XỨ LÝ ẢNH VỚI matplotlib**\n",
        "\n",
        "\n",
        "\n"
      ],
      "metadata": {
        "id": "wpDjPU-_zvc2"
      }
    },
    {
      "cell_type": "code",
      "source": [
        "import matplotlib.pyplot as plt\n"
      ],
      "metadata": {
        "id": "zgJJSuEg0DUO"
      },
      "execution_count": null,
      "outputs": []
    },
    {
      "cell_type": "code",
      "source": [
        "x=[1,2]\n",
        "y=[5,6]\n",
        "plt.plot(x,y)\n",
        "plt.show()"
      ],
      "metadata": {
        "id": "qtuKfnIK0Tz3"
      },
      "execution_count": null,
      "outputs": []
    },
    {
      "cell_type": "code",
      "source": [
        "import matplotlib.image as mpi\n",
        "from google.colab import files\n",
        "\n",
        "uploaded = files.upload()\n",
        "\n",
        "image_path = \"download.jpg\"\n",
        "\n",
        "img = mpi.imread(image_path)\n",
        "\n",
        "plt.imshow(img)\n",
        "plt.axis('off')\n",
        "plt.show()"
      ],
      "metadata": {
        "id": "_7jq0p3TDPdk"
      },
      "execution_count": null,
      "outputs": []
    },
    {
      "cell_type": "code",
      "source": [
        "img=np.random.rand(50,50)\n",
        "plt.imshow(img)\n",
        "plt.axis('off')\n",
        "plt.show"
      ],
      "metadata": {
        "id": "KLIpLSPx02dz"
      },
      "execution_count": null,
      "outputs": []
    },
    {
      "cell_type": "code",
      "source": [
        "x = [1, 2, 3, 4, 5]\n",
        "y = [10, 15, 13, 18, 16]\n",
        "\n",
        "\n",
        "plt.scatter(x, y)\n",
        "\n",
        "\n",
        "plt.show()"
      ],
      "metadata": {
        "id": "B3Z6BWnQ1KIA"
      },
      "execution_count": null,
      "outputs": []
    },
    {
      "cell_type": "code",
      "source": [
        "categories = [\"A\", \"B\", \"C\", \"D\", \"E\"]\n",
        "values = [15, 30, 25, 40, 10]\n",
        "\n",
        "plt.bar(categories, values)\n",
        "\n",
        "\n",
        "plt.show()"
      ],
      "metadata": {
        "id": "tQ4hS6ix1Y_x"
      },
      "execution_count": null,
      "outputs": []
    },
    {
      "cell_type": "markdown",
      "source": [
        "**QUẢN LÝ DỮ LIỆU VỚI pandas**"
      ],
      "metadata": {
        "id": "Mx52mZuf1q3A"
      }
    },
    {
      "cell_type": "code",
      "source": [
        "import pandas as pd"
      ],
      "metadata": {
        "id": "o1bzMLSA1vx3"
      },
      "execution_count": null,
      "outputs": []
    },
    {
      "cell_type": "code",
      "source": [
        "data = [['Alice', 25], ['Bob', 30], ['Charlie', 35]]\n",
        "df = pd.DataFrame(data, columns=['Name', 'Age'])\n",
        "print(df)"
      ],
      "metadata": {
        "id": "iACeApki10gW"
      },
      "execution_count": null,
      "outputs": []
    },
    {
      "cell_type": "code",
      "source": [
        "data = {'Name': ['Alice', 'Bob', 'Charlie'], 'Age': [25, 30, 35]}\n",
        "\n",
        "df = pd.DataFrame(data)\n",
        "print(df)"
      ],
      "metadata": {
        "id": "SM4SAFpQ2B2y"
      },
      "execution_count": null,
      "outputs": []
    },
    {
      "cell_type": "code",
      "source": [
        "from google.colab import files\n",
        "uploaded = files.upload()\n"
      ],
      "metadata": {
        "id": "_tRFus5b2Kjb"
      },
      "execution_count": null,
      "outputs": []
    },
    {
      "cell_type": "code",
      "source": [
        "df = pd.read_excel('hello.xlsx', sheet_name=0)\n",
        "print(df)\n"
      ],
      "metadata": {
        "id": "XTtf1W2g2nn1"
      },
      "execution_count": null,
      "outputs": []
    },
    {
      "cell_type": "code",
      "source": [
        "df = pd.read_excel('hello.xlsx', sheet_name=\"Sheet1\")\n",
        "print(df)"
      ],
      "metadata": {
        "id": "l1VC3jN-4Poj"
      },
      "execution_count": null,
      "outputs": []
    },
    {
      "cell_type": "code",
      "source": [
        "df[\"name\"]"
      ],
      "metadata": {
        "id": "1M5WeDDA4SFf"
      },
      "execution_count": null,
      "outputs": []
    },
    {
      "cell_type": "code",
      "source": [
        "df[\"id\"]"
      ],
      "metadata": {
        "id": "gq-QhBVv4ZfO"
      },
      "execution_count": null,
      "outputs": []
    },
    {
      "cell_type": "code",
      "source": [
        "df.at[0,\"name\"]"
      ],
      "metadata": {
        "id": "WTZCagv34hCn"
      },
      "execution_count": null,
      "outputs": []
    },
    {
      "cell_type": "code",
      "source": [
        "df.iloc[0]"
      ],
      "metadata": {
        "id": "1kC9n3A_4qZW"
      },
      "execution_count": null,
      "outputs": []
    },
    {
      "cell_type": "code",
      "source": [
        "df.sort_values(by='age', ascending=False)"
      ],
      "metadata": {
        "id": "_Mp1GZgE4v17"
      },
      "execution_count": null,
      "outputs": []
    },
    {
      "cell_type": "code",
      "source": [
        "df[df['age'] >= 19]"
      ],
      "metadata": {
        "id": "txC3RiVJ4_Ip"
      },
      "execution_count": null,
      "outputs": []
    },
    {
      "cell_type": "code",
      "source": [
        "df['age'].sum()\n"
      ],
      "metadata": {
        "id": "D1kEhgCK5Gy3"
      },
      "execution_count": null,
      "outputs": []
    },
    {
      "cell_type": "code",
      "source": [
        "df['age'].mean()"
      ],
      "metadata": {
        "id": "Ca7eb7yf5Mbx"
      },
      "execution_count": null,
      "outputs": []
    },
    {
      "cell_type": "code",
      "source": [
        "df['age'].max()"
      ],
      "metadata": {
        "id": "-HaOCsFX5MlI"
      },
      "execution_count": null,
      "outputs": []
    },
    {
      "cell_type": "code",
      "source": [
        "df['age'].min()"
      ],
      "metadata": {
        "id": "xed_NVbE5K2G"
      },
      "execution_count": null,
      "outputs": []
    },
    {
      "cell_type": "code",
      "source": [
        "df['Gender'] = ['Female', 'Male', 'Male']\n",
        "\n",
        "print(df)"
      ],
      "metadata": {
        "id": "o37j1gKO5UUF"
      },
      "execution_count": null,
      "outputs": []
    },
    {
      "cell_type": "code",
      "source": [
        "df.drop('Gender', axis=1, inplace=True)\n",
        "print(df)"
      ],
      "metadata": {
        "id": "R4g_s4Hz5aYg"
      },
      "execution_count": null,
      "outputs": []
    },
    {
      "cell_type": "code",
      "source": [
        "df['age'].describe()"
      ],
      "metadata": {
        "id": "f_Q-IxPD5wr_"
      },
      "execution_count": null,
      "outputs": []
    }
  ]
}